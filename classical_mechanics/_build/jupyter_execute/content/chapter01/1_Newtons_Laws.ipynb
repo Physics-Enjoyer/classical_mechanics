{
 "cells": [
  {
   "cell_type": "markdown",
   "metadata": {},
   "source": [
    "# Newton's Laws of Motion\n",
    "\n",
    "We begin our study of Classical Mechanics by reviewing and revisiting some material from the introductory physics classes; Newton's Laws of Motion. \n",
    "\n",
    "## A bit of History\n",
    "\n",
    "<!-- TODO: Add more here at some point -->\n",
    "\n",
    "Ok so this isn't a history class but throughout these notes I'll make reference to historical figures of particular importance (plus their names are on more than a few laws/theorems/whateverms and its good to know a bit about the person you are talking about).\n",
    "\n",
    "**Johannes Kepler** had 3 laws of planetary motion which we will discuss in detail later but his work and data gathered by Tycho Brahe \n",
    "\n",
    "**Sir Issac Newton** was born 1642 and died in 1727. In 1687 he published a book called *Principia Mathematica* where he developed the ideas of calculus, which he called the method of fluxions, and used those ideas to derive Kepler's laws of planetary motion.\n",
    "\n",
    "**Gottfried Willhelm Leibnitz** also developed calculus independently of Newton at around the same time.\n"
   ]
  },
  {
   "cell_type": "markdown",
   "metadata": {},
   "source": [
    "\n",
    "## The 3 Laws of Motion\n",
    "\n",
    "Ok time to get to the actual physics I'm growing bored with this introductory shit.\n",
    "\n",
    "### Newton's First Law\n",
    "\n",
    "The first law of motion also known as the law of inertia and in later physics is used to *define* what an inertial frame is (more on this later) states:\n",
    "\n",
    "```{admonition} Newton's First Law\n",
    "In the absence of forces, a particle moves with constant velocity $\\vec{v}$\n",
    "```\n",
    "\n",
    "This means that unless an object is acted on by an *external* force it will remain moving at the same speed and direction. The speed can also be zero so an object that is not moving is still obeying Newton's first law\n",
    "\n",
    "### Newton's Second Law\n",
    "\n",
    "Newton's first law is really just a special case of Newton's second law. \n",
    "\n",
    "```{admonition} Newton's Second Law\n",
    "For any particle of mass $m$, the net force F on the particle is always equal to the mass $m$ times the particle's acceleration $\\vec{a}$:\n",
    "\n",
    "$$\n",
    "F = m\\vec{a}\n",
    "$$\n",
    "```\n",
    "\n",
    "\n",
    "### Newton's Third Law"
   ]
  }
 ],
 "metadata": {
  "kernelspec": {
   "display_name": "Python 3 (ipykernel)",
   "language": "python",
   "name": "python3"
  },
  "language_info": {
   "codemirror_mode": {
    "name": "ipython",
    "version": 3
   },
   "file_extension": ".py",
   "mimetype": "text/x-python",
   "name": "python",
   "nbconvert_exporter": "python",
   "pygments_lexer": "ipython3",
   "version": "3.11.3"
  }
 },
 "nbformat": 4,
 "nbformat_minor": 2
}